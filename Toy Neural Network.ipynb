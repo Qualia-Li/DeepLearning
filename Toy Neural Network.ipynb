{
 "cells": [
  {
   "cell_type": "code",
   "execution_count": 42,
   "metadata": {
    "collapsed": false
   },
   "outputs": [
    {
     "name": "stdout",
     "output_type": "stream",
     "text": [
      "Error:0.518330460078\n",
      "Error:0.0173589725488\n",
      "Error:0.0121110358716\n",
      "Error:0.00983845004087\n",
      "Error:0.00849675091242\n",
      "Output after training:\n",
      "[[ 0.01010156]\n",
      " [ 0.99981471]\n",
      " [ 0.00998341]\n",
      " [ 0.01007766]]\n"
     ]
    }
   ],
   "source": [
    "# Quanlai Li\n",
    "# 04-29-2017\n",
    "# Referred to Siraj Raval\n",
    "\n",
    "import numpy as np\n",
    "\n",
    "def nonlin(x, deriv=False):\n",
    "    if(deriv==True):\n",
    "        return x*(1-x)\n",
    "    return 1/(1+(np.exp(-x)))\n",
    "\n",
    "X = np.array([[0,0,1],[0,1,1],[1,0,1],[1,1,1]])\n",
    "\n",
    "y = np.array([[0],[1],[0],[0]])\n",
    "\n",
    "np.random.seed(1)\n",
    "\n",
    "# synapses\n",
    "syn0 = 2*np.random.random((3,4)) -1\n",
    "syn1 = 2*np.random.random((4,1)) -1\n",
    "\n",
    "for j in range(5000):\n",
    "#   forward propagation\n",
    "    l0 = X\n",
    "    l1 = nonlin(np.dot(l0, syn0))\n",
    "    l2 = nonlin(np.dot(l1, syn1))\n",
    "    \n",
    "    l2_error = y-l2\n",
    "    \n",
    "    if(j%1000)==0: \n",
    "        print(\"Error:\" + str(np.mean(np.abs(l2_error))))\n",
    "        \n",
    "        \n",
    "#   backward propagation\n",
    "    l2_delta = l2_error + nonlin(l2, deriv=True)\n",
    "    l1_error = l2_delta.dot(syn1.T)\n",
    "    l1_delta = l1_error + nonlin(l1, deriv=True)\n",
    "    \n",
    "    syn1 += l1.T.dot(l2_delta)\n",
    "    syn0 += l0.T.dot(l1_delta)\n",
    "    \n",
    "print(\"Output after training:\")\n",
    "print(l2)\n"
   ]
  },
  {
   "cell_type": "code",
   "execution_count": 43,
   "metadata": {
    "collapsed": false
   },
   "outputs": [
    {
     "name": "stdout",
     "output_type": "stream",
     "text": [
      "(1, 3)\n",
      "(1, 4)\n",
      "(1, 1)\n",
      "[[ 0.99981475]]\n"
     ]
    }
   ],
   "source": [
    "# predict\n",
    "l0 = np.array([[0,1,1]])\n",
    "print(l0.shape)\n",
    "l1 = nonlin(np.dot(l0, syn0))\n",
    "print(l1.shape)\n",
    "l2 = nonlin(np.dot(l1, syn1))\n",
    "print(l2.shape)\n",
    "print(l2)"
   ]
  },
  {
   "cell_type": "code",
   "execution_count": null,
   "metadata": {
    "collapsed": true
   },
   "outputs": [],
   "source": []
  },
  {
   "cell_type": "code",
   "execution_count": null,
   "metadata": {
    "collapsed": true
   },
   "outputs": [],
   "source": []
  }
 ],
 "metadata": {
  "kernelspec": {
   "display_name": "Python 3",
   "language": "python",
   "name": "python3"
  },
  "language_info": {
   "codemirror_mode": {
    "name": "ipython",
    "version": 3
   },
   "file_extension": ".py",
   "mimetype": "text/x-python",
   "name": "python",
   "nbconvert_exporter": "python",
   "pygments_lexer": "ipython3",
   "version": "3.5.2"
  }
 },
 "nbformat": 4,
 "nbformat_minor": 2
}
